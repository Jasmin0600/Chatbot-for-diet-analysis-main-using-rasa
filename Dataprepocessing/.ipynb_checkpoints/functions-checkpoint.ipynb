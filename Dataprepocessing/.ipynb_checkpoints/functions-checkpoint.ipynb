{
 "cells": [
  {
   "cell_type": "code",
   "execution_count": 51,
   "id": "3c77dafb",
   "metadata": {},
   "outputs": [],
   "source": [
    "import pandas as pd"
   ]
  },
  {
   "cell_type": "code",
   "execution_count": 52,
   "id": "8068c602",
   "metadata": {},
   "outputs": [
    {
     "data": {
      "text/html": [
       "<div>\n",
       "<style scoped>\n",
       "    .dataframe tbody tr th:only-of-type {\n",
       "        vertical-align: middle;\n",
       "    }\n",
       "\n",
       "    .dataframe tbody tr th {\n",
       "        vertical-align: top;\n",
       "    }\n",
       "\n",
       "    .dataframe thead th {\n",
       "        text-align: right;\n",
       "    }\n",
       "</style>\n",
       "<table border=\"1\" class=\"dataframe\">\n",
       "  <thead>\n",
       "    <tr style=\"text-align: right;\">\n",
       "      <th></th>\n",
       "      <th>Unnamed: 0</th>\n",
       "      <th>food_id</th>\n",
       "      <th>food_name</th>\n",
       "      <th>calcium</th>\n",
       "      <th>calories</th>\n",
       "      <th>carbohydrate</th>\n",
       "      <th>fat</th>\n",
       "      <th>potassium</th>\n",
       "      <th>protein</th>\n",
       "      <th>serving_description</th>\n",
       "      <th>sodium</th>\n",
       "      <th>sugar</th>\n",
       "      <th>vitamin_a</th>\n",
       "      <th>vitamin_c</th>\n",
       "    </tr>\n",
       "  </thead>\n",
       "  <tbody>\n",
       "    <tr>\n",
       "      <th>0</th>\n",
       "      <td>2</td>\n",
       "      <td>792</td>\n",
       "      <td>Human Milk</td>\n",
       "      <td>3</td>\n",
       "      <td>70</td>\n",
       "      <td>6.89</td>\n",
       "      <td>4.38</td>\n",
       "      <td>51</td>\n",
       "      <td>1.03</td>\n",
       "      <td>100 g</td>\n",
       "      <td>17</td>\n",
       "      <td>6.89</td>\n",
       "      <td>4</td>\n",
       "      <td>8</td>\n",
       "    </tr>\n",
       "    <tr>\n",
       "      <th>1</th>\n",
       "      <td>11</td>\n",
       "      <td>793</td>\n",
       "      <td>Milk</td>\n",
       "      <td>12</td>\n",
       "      <td>50</td>\n",
       "      <td>4.71</td>\n",
       "      <td>2.00</td>\n",
       "      <td>148</td>\n",
       "      <td>3.29</td>\n",
       "      <td>100 g</td>\n",
       "      <td>41</td>\n",
       "      <td>5.16</td>\n",
       "      <td>3</td>\n",
       "      <td>0</td>\n",
       "    </tr>\n",
       "    <tr>\n",
       "      <th>2</th>\n",
       "      <td>20</td>\n",
       "      <td>794</td>\n",
       "      <td>Whole Milk</td>\n",
       "      <td>11</td>\n",
       "      <td>60</td>\n",
       "      <td>4.52</td>\n",
       "      <td>3.25</td>\n",
       "      <td>143</td>\n",
       "      <td>3.22</td>\n",
       "      <td>100 g</td>\n",
       "      <td>40</td>\n",
       "      <td>5.26</td>\n",
       "      <td>2</td>\n",
       "      <td>0</td>\n",
       "    </tr>\n",
       "    <tr>\n",
       "      <th>3</th>\n",
       "      <td>28</td>\n",
       "      <td>795</td>\n",
       "      <td>Low-Sodium Whole Milk</td>\n",
       "      <td>10</td>\n",
       "      <td>61</td>\n",
       "      <td>4.46</td>\n",
       "      <td>3.46</td>\n",
       "      <td>253</td>\n",
       "      <td>3.10</td>\n",
       "      <td>100 g</td>\n",
       "      <td>3</td>\n",
       "      <td>4.46</td>\n",
       "      <td>2</td>\n",
       "      <td>2</td>\n",
       "    </tr>\n",
       "    <tr>\n",
       "      <th>4</th>\n",
       "      <td>36</td>\n",
       "      <td>796</td>\n",
       "      <td>Whole Milk (Calcium Fortified)</td>\n",
       "      <td>41</td>\n",
       "      <td>60</td>\n",
       "      <td>4.51</td>\n",
       "      <td>3.24</td>\n",
       "      <td>143</td>\n",
       "      <td>3.21</td>\n",
       "      <td>100 g</td>\n",
       "      <td>40</td>\n",
       "      <td>5.24</td>\n",
       "      <td>2</td>\n",
       "      <td>0</td>\n",
       "    </tr>\n",
       "  </tbody>\n",
       "</table>\n",
       "</div>"
      ],
      "text/plain": [
       "   Unnamed: 0  food_id                       food_name  calcium  calories  \\\n",
       "0           2      792                      Human Milk        3        70   \n",
       "1          11      793                            Milk       12        50   \n",
       "2          20      794                      Whole Milk       11        60   \n",
       "3          28      795           Low-Sodium Whole Milk       10        61   \n",
       "4          36      796  Whole Milk (Calcium Fortified)       41        60   \n",
       "\n",
       "   carbohydrate   fat  potassium  protein serving_description  sodium  sugar  \\\n",
       "0          6.89  4.38         51     1.03               100 g      17   6.89   \n",
       "1          4.71  2.00        148     3.29               100 g      41   5.16   \n",
       "2          4.52  3.25        143     3.22               100 g      40   5.26   \n",
       "3          4.46  3.46        253     3.10               100 g       3   4.46   \n",
       "4          4.51  3.24        143     3.21               100 g      40   5.24   \n",
       "\n",
       "   vitamin_a  vitamin_c  \n",
       "0          4          8  \n",
       "1          3          0  \n",
       "2          2          0  \n",
       "3          2          2  \n",
       "4          2          0  "
      ]
     },
     "execution_count": 52,
     "metadata": {},
     "output_type": "execute_result"
    }
   ],
   "source": [
    "df = pd.read_csv('food_100g.csv')\n",
    "df.head()"
   ]
  },
  {
   "cell_type": "code",
   "execution_count": 53,
   "id": "64f56116",
   "metadata": {},
   "outputs": [
    {
     "data": {
      "text/plain": [
       "(11132, 14)"
      ]
     },
     "execution_count": 53,
     "metadata": {},
     "output_type": "execute_result"
    }
   ],
   "source": [
    "df.shape"
   ]
  },
  {
   "cell_type": "code",
   "execution_count": 98,
   "id": "53c933ee",
   "metadata": {},
   "outputs": [],
   "source": [
    "df_20 = df.sample(n=20)"
   ]
  },
  {
   "cell_type": "code",
   "execution_count": 99,
   "id": "0bc0c335",
   "metadata": {},
   "outputs": [
    {
     "data": {
      "text/html": [
       "<div>\n",
       "<style scoped>\n",
       "    .dataframe tbody tr th:only-of-type {\n",
       "        vertical-align: middle;\n",
       "    }\n",
       "\n",
       "    .dataframe tbody tr th {\n",
       "        vertical-align: top;\n",
       "    }\n",
       "\n",
       "    .dataframe thead th {\n",
       "        text-align: right;\n",
       "    }\n",
       "</style>\n",
       "<table border=\"1\" class=\"dataframe\">\n",
       "  <thead>\n",
       "    <tr style=\"text-align: right;\">\n",
       "      <th></th>\n",
       "      <th>Unnamed: 0</th>\n",
       "      <th>food_id</th>\n",
       "      <th>food_name</th>\n",
       "      <th>calcium</th>\n",
       "      <th>calories</th>\n",
       "      <th>carbohydrate</th>\n",
       "      <th>fat</th>\n",
       "      <th>potassium</th>\n",
       "      <th>protein</th>\n",
       "      <th>serving_description</th>\n",
       "      <th>sodium</th>\n",
       "      <th>sugar</th>\n",
       "      <th>vitamin_a</th>\n",
       "      <th>vitamin_c</th>\n",
       "    </tr>\n",
       "  </thead>\n",
       "  <tbody>\n",
       "    <tr>\n",
       "      <th>5767</th>\n",
       "      <td>33656</td>\n",
       "      <td>7555</td>\n",
       "      <td>Decaffeinated Frappuccino</td>\n",
       "      <td>7</td>\n",
       "      <td>58</td>\n",
       "      <td>8.64</td>\n",
       "      <td>1.93</td>\n",
       "      <td>100</td>\n",
       "      <td>1.90</td>\n",
       "      <td>100 g</td>\n",
       "      <td>26</td>\n",
       "      <td>9.07</td>\n",
       "      <td>1</td>\n",
       "      <td>0</td>\n",
       "    </tr>\n",
       "    <tr>\n",
       "      <th>5458</th>\n",
       "      <td>31407</td>\n",
       "      <td>7184</td>\n",
       "      <td>Cane and Corn Pancake Syrup</td>\n",
       "      <td>1</td>\n",
       "      <td>283</td>\n",
       "      <td>76.79</td>\n",
       "      <td>0.20</td>\n",
       "      <td>1</td>\n",
       "      <td>0.00</td>\n",
       "      <td>100 g</td>\n",
       "      <td>62</td>\n",
       "      <td>26.77</td>\n",
       "      <td>0</td>\n",
       "      <td>0</td>\n",
       "    </tr>\n",
       "    <tr>\n",
       "      <th>604</th>\n",
       "      <td>3479</td>\n",
       "      <td>1428</td>\n",
       "      <td>Fried, Breaded or Floured Pork (Lean and Fat E...</td>\n",
       "      <td>6</td>\n",
       "      <td>317</td>\n",
       "      <td>13.75</td>\n",
       "      <td>19.06</td>\n",
       "      <td>326</td>\n",
       "      <td>21.31</td>\n",
       "      <td>100 g</td>\n",
       "      <td>601</td>\n",
       "      <td>1.25</td>\n",
       "      <td>1</td>\n",
       "      <td>0</td>\n",
       "    </tr>\n",
       "    <tr>\n",
       "      <th>984</th>\n",
       "      <td>6987</td>\n",
       "      <td>1879</td>\n",
       "      <td>Sausage (Not Cold Cut)</td>\n",
       "      <td>2</td>\n",
       "      <td>344</td>\n",
       "      <td>4.27</td>\n",
       "      <td>27.31</td>\n",
       "      <td>304</td>\n",
       "      <td>19.12</td>\n",
       "      <td>100 g</td>\n",
       "      <td>1207</td>\n",
       "      <td>0.86</td>\n",
       "      <td>1</td>\n",
       "      <td>0</td>\n",
       "    </tr>\n",
       "    <tr>\n",
       "      <th>4953</th>\n",
       "      <td>28760</td>\n",
       "      <td>6587</td>\n",
       "      <td>Cooked Hot Peppers (Fat Not Added in Cooking)</td>\n",
       "      <td>2</td>\n",
       "      <td>42</td>\n",
       "      <td>9.85</td>\n",
       "      <td>0.21</td>\n",
       "      <td>319</td>\n",
       "      <td>2.08</td>\n",
       "      <td>100 g</td>\n",
       "      <td>7</td>\n",
       "      <td>5.31</td>\n",
       "      <td>24</td>\n",
       "      <td>337</td>\n",
       "    </tr>\n",
       "  </tbody>\n",
       "</table>\n",
       "</div>"
      ],
      "text/plain": [
       "      Unnamed: 0  food_id                                          food_name  \\\n",
       "5767       33656     7555                          Decaffeinated Frappuccino   \n",
       "5458       31407     7184                        Cane and Corn Pancake Syrup   \n",
       "604         3479     1428  Fried, Breaded or Floured Pork (Lean and Fat E...   \n",
       "984         6987     1879                             Sausage (Not Cold Cut)   \n",
       "4953       28760     6587      Cooked Hot Peppers (Fat Not Added in Cooking)   \n",
       "\n",
       "      calcium  calories  carbohydrate    fat  potassium  protein  \\\n",
       "5767        7        58          8.64   1.93        100     1.90   \n",
       "5458        1       283         76.79   0.20          1     0.00   \n",
       "604         6       317         13.75  19.06        326    21.31   \n",
       "984         2       344          4.27  27.31        304    19.12   \n",
       "4953        2        42          9.85   0.21        319     2.08   \n",
       "\n",
       "     serving_description  sodium  sugar  vitamin_a  vitamin_c  \n",
       "5767               100 g      26   9.07          1          0  \n",
       "5458               100 g      62  26.77          0          0  \n",
       "604                100 g     601   1.25          1          0  \n",
       "984                100 g    1207   0.86          1          0  \n",
       "4953               100 g       7   5.31         24        337  "
      ]
     },
     "execution_count": 99,
     "metadata": {},
     "output_type": "execute_result"
    }
   ],
   "source": [
    "df_20.head()"
   ]
  },
  {
   "cell_type": "code",
   "execution_count": 129,
   "id": "dfba9087",
   "metadata": {},
   "outputs": [
    {
     "data": {
      "text/plain": [
       "20"
      ]
     },
     "execution_count": 129,
     "metadata": {},
     "output_type": "execute_result"
    }
   ],
   "source": [
    "df_20_list = list(zip(df_20['food_name'],df_20['calories']))\n",
    "df_20_list_sorted = sorted(df_20_list,key=lambda l:l[1])\n",
    "df_20_list\n",
    "len(df_20_list)"
   ]
  },
  {
   "cell_type": "code",
   "execution_count": 130,
   "id": "22dfe572",
   "metadata": {},
   "outputs": [
    {
     "name": "stdout",
     "output_type": "stream",
     "text": [
      "('Decaffeinated Frappuccino', 58)\n",
      "('Cane and Corn Pancake Syrup', 283)\n",
      "('Fried, Breaded or Floured Pork (Lean and Fat Eaten)', 317)\n",
      "('Sausage (Not Cold Cut)', 344)\n",
      "('Cooked Hot Peppers (Fat Not Added in Cooking)', 42)\n",
      "('Taco or Tostada with Beef, Cheese and Lettuce', 283)\n",
      "('Wheaties', 355)\n",
      "('Okra', 31)\n",
      "('Banana Whip', 136)\n",
      "('Beef Tenderloin (Lean Only, Trimmed to 0\" Fat, Cooked, Broiled)', 193)\n",
      "('Cooked Immature Lima Beans (Canned)', 138)\n",
      "('Frozen Honeydew (Balls)', 36)\n",
      "('Soup', 304)\n",
      "('Cuban Style Black Beans (Habichuelas Negras Guisadas A La Cubana)', 113)\n",
      "('Cheese Pastry Puffs', 263)\n",
      "('Orange and Banana Juice', 56)\n",
      "('Beef Outside Round (Steak, Trimmed to 0\" Fat, Select Grade)', 129)\n",
      "('Puffed Corn and Oat Cereal', 395)\n",
      "('Puerto Rican Style Stewed Seasoned Ground Beef (Picadillo Guisado, Picadillo De Carne)', 281)\n",
      "('Beef Porterhouse Steak (Trimmed to 1/4\" Fat, Choice Grade)', 250)\n"
     ]
    }
   ],
   "source": [
    "for i in df_20_list:\n",
    "    print(i)"
   ]
  },
  {
   "cell_type": "code",
   "execution_count": 131,
   "id": "36ff894f",
   "metadata": {},
   "outputs": [
    {
     "name": "stdout",
     "output_type": "stream",
     "text": [
      "Target Calory :  3000\n",
      "morning calory needed :  750.0\n",
      "lunch calory needed :  1050.0\n",
      "dinner calory needed :  1200.0\n",
      "\n",
      "\n",
      "\n",
      "('Decaffeinated Frappuccino', 58)\n",
      "Inserted to morning=============\n",
      "('Cane and Corn Pancake Syrup', 283)\n",
      "Inserted to morning=============\n",
      "('Fried, Breaded or Floured Pork (Lean and Fat Eaten)', 317)\n",
      "Inserted to morning=============\n",
      "needed grams :  26.74\n",
      "('Sausage (Not Cold Cut)', 344)\n",
      "('Cooked Hot Peppers (Fat Not Added in Cooking)', 42)\n",
      "Inserted to lunch=============\n",
      "('Taco or Tostada with Beef, Cheese and Lettuce', 283)\n",
      "Inserted to lunch=============\n",
      "('Wheaties', 355)\n",
      "Inserted to lunch=============\n",
      "('Okra', 31)\n",
      "Inserted to lunch=============\n",
      "('Banana Whip', 136)\n",
      "Inserted to lunch=============\n",
      "('Beef Tenderloin (Lean Only, Trimmed to 0\" Fat, Cooked, Broiled)', 193)\n",
      "Inserted to lunch=============\n",
      "needed grams :  7.25\n",
      "('Cooked Immature Lima Beans (Canned)', 138)\n",
      "('Frozen Honeydew (Balls)', 36)\n",
      "Inserted to Dinner=============\n",
      "('Soup', 304)\n",
      "Inserted to Dinner=============\n",
      "('Cuban Style Black Beans (Habichuelas Negras Guisadas A La Cubana)', 113)\n",
      "Inserted to Dinner=============\n",
      "('Cheese Pastry Puffs', 263)\n",
      "Inserted to Dinner=============\n",
      "('Orange and Banana Juice', 56)\n",
      "Inserted to Dinner=============\n",
      "('Beef Outside Round (Steak, Trimmed to 0\" Fat, Select Grade)', 129)\n",
      "Inserted to Dinner=============\n",
      "needed calory :  252.0\n",
      "needed grams :  75.7\n",
      "('Puffed Corn and Oat Cereal', 395)\n",
      "\n",
      "\n",
      "========morning list=======\n",
      "[('Decaffeinated Frappuccino', 58), ('Cane and Corn Pancake Syrup', 283), ('Fried, Breaded or Floured Pork (Lean and Fat Eaten)', 317), ('26.74 gms Sausage (Not Cold Cut)', 92.0)]\n",
      "========lunch list=======\n",
      "[('Cooked Hot Peppers (Fat Not Added in Cooking)', 42), ('Taco or Tostada with Beef, Cheese and Lettuce', 283), ('Wheaties', 355), ('Okra', 31), ('Banana Whip', 136), ('Beef Tenderloin (Lean Only, Trimmed to 0\" Fat, Cooked, Broiled)', 193), ('7.25 gms Cooked Immature Lima Beans (Canned)', 10.0)]\n",
      "========dinner list=======\n",
      "[('Frozen Honeydew (Balls)', 36), ('Soup', 304), ('Cuban Style Black Beans (Habichuelas Negras Guisadas A La Cubana)', 113), ('Cheese Pastry Puffs', 263), ('Orange and Banana Juice', 56), ('Beef Outside Round (Steak, Trimmed to 0\" Fat, Select Grade)', 129), ('75.7 gms Puffed Corn and Oat Cereal', 299.0)]\n",
      "\n",
      "\n",
      "morning_cal_consumed :  750.0\n",
      "lunch_cal_consumed :  1050.0\n",
      "dinner_cal_consumed :  1200.0\n",
      "total_calory_consumed :  3000.0\n"
     ]
    }
   ],
   "source": [
    "target_cal = 3000\n",
    "morning_cal = target_cal*0.25\n",
    "lunch_cal = target_cal*0.35\n",
    "dinner_cal = target_cal*0.40\n",
    "print(\"Target Calory : \", target_cal)\n",
    "print(\"morning calory needed : \",morning_cal)\n",
    "print(\"lunch calory needed : \",lunch_cal)\n",
    "print(\"dinner calory needed : \",dinner_cal)\n",
    "print(\"\\n\\n\")\n",
    "\n",
    "morning_cal_consumed = 0\n",
    "lunch_cal_consumed = 0\n",
    "dinner_cal_consumed = 0\n",
    "total_calory_consumed = 0\n",
    "\n",
    "morning_list = []\n",
    "lunch_list = []\n",
    "dinner_list = []\n",
    "\n",
    "while morning_cal>0:\n",
    "    if morning_cal-df_20_list[0][1] < 0:\n",
    "        need_gms = round((100*morning_cal)/df_20_list[0][1],2)\n",
    "        print(\"needed grams : \", need_gms)\n",
    "        print(df_20_list[0]) \n",
    "        morning_cal_consumed = morning_cal_consumed + morning_cal\n",
    "        total_calory_consumed = total_calory_consumed + morning_cal\n",
    "        morning_list.append((str(need_gms) +' gms '+ df_20_list[0][0] ,morning_cal))\n",
    "        df_20_list.pop(0)\n",
    "        break\n",
    "    else:\n",
    "        morning_cal = morning_cal - df_20_list[0][1]\n",
    "        print(df_20_list[0]) \n",
    "        morning_cal_consumed = morning_cal_consumed + df_20_list[0][1]\n",
    "        total_calory_consumed = total_calory_consumed + df_20_list[0][1]\n",
    "        morning_list.append(df_20_list.pop(0))\n",
    "        print(\"Inserted to morning=============\")\n",
    "\n",
    "\n",
    "while lunch_cal>0:\n",
    "    if lunch_cal-df_20_list[0][1] < 0:\n",
    "        need_gms = round((100*lunch_cal)/df_20_list[0][1],2)\n",
    "        print(\"needed grams : \", need_gms)\n",
    "        print(df_20_list[0]) \n",
    "        lunch_cal_consumed = lunch_cal_consumed + lunch_cal\n",
    "        total_calory_consumed = total_calory_consumed + lunch_cal\n",
    "        lunch_list.append((str(need_gms) +' gms '+ df_20_list[0][0] ,lunch_cal))\n",
    "        df_20_list.pop(0)\n",
    "        break        \n",
    "    else:\n",
    "        lunch_cal = lunch_cal - df_20_list[0][1]\n",
    "        print(df_20_list[0]) \n",
    "        lunch_cal_consumed = lunch_cal_consumed + df_20_list[0][1]\n",
    "        total_calory_consumed = total_calory_consumed + df_20_list[0][1]\n",
    "        lunch_list.append(df_20_list.pop(0))\n",
    "        print(\"Inserted to lunch=============\")\n",
    "\n",
    "while dinner_cal>0:\n",
    "    if dinner_cal-df_20_list[0][1] < 0:\n",
    "        need_gms = round((100*dinner_cal)/df_20_list[0][1],2)\n",
    "        print(\"needed calory : \", cal_difference)\n",
    "        print(\"needed grams : \", need_gms)\n",
    "        print(df_20_list[0]) \n",
    "        dinner_cal_consumed = dinner_cal_consumed + dinner_cal\n",
    "        total_calory_consumed = total_calory_consumed + dinner_cal\n",
    "        dinner_list.append((str(need_gms) +' gms '+ df_20_list[0][0] ,dinner_cal))\n",
    "        df_20_list.pop(0)\n",
    "        break        \n",
    "    else:\n",
    "        dinner_cal = dinner_cal - df_20_list[0][1]\n",
    "        print(df_20_list[0]) \n",
    "        dinner_cal_consumed = dinner_cal_consumed + df_20_list[0][1]\n",
    "        total_calory_consumed = total_calory_consumed + df_20_list[0][1]\n",
    "        dinner_list.append(df_20_list.pop(0))\n",
    "        print(\"Inserted to Dinner=============\")\n",
    "\n",
    "\n",
    "print(\"\\n\\n========morning list=======\")\n",
    "print(morning_list)\n",
    "print(\"========lunch list=======\")\n",
    "print(lunch_list)\n",
    "print(\"========dinner list=======\")\n",
    "print(dinner_list)\n",
    "\n",
    "print(\"\\n\\nmorning_cal_consumed : \",morning_cal_consumed)\n",
    "print(\"lunch_cal_consumed : \",lunch_cal_consumed)\n",
    "print(\"dinner_cal_consumed : \",dinner_cal_consumed)\n",
    "print(\"total_calory_consumed : \",total_calory_consumed)\n",
    "\n",
    "    "
   ]
  },
  {
   "cell_type": "code",
   "execution_count": null,
   "id": "263a776e",
   "metadata": {},
   "outputs": [],
   "source": []
  },
  {
   "cell_type": "code",
   "execution_count": null,
   "id": "122d2906",
   "metadata": {},
   "outputs": [],
   "source": []
  },
  {
   "cell_type": "code",
   "execution_count": null,
   "id": "cf2cb01b",
   "metadata": {},
   "outputs": [],
   "source": []
  },
  {
   "cell_type": "code",
   "execution_count": null,
   "id": "a515a58c",
   "metadata": {},
   "outputs": [],
   "source": []
  },
  {
   "cell_type": "code",
   "execution_count": null,
   "id": "4d7acaa7",
   "metadata": {},
   "outputs": [],
   "source": []
  },
  {
   "cell_type": "code",
   "execution_count": 132,
   "id": "27c5a491",
   "metadata": {},
   "outputs": [
    {
     "data": {
      "text/plain": [
       "[('Decaffeinated Frappuccino', 58),\n",
       " ('Cane and Corn Pancake Syrup', 283),\n",
       " ('Fried, Breaded or Floured Pork (Lean and Fat Eaten)', 317),\n",
       " ('26.74 gms Sausage (Not Cold Cut)', 92.0)]"
      ]
     },
     "execution_count": 132,
     "metadata": {},
     "output_type": "execute_result"
    }
   ],
   "source": [
    "morning_list"
   ]
  },
  {
   "cell_type": "code",
   "execution_count": 133,
   "id": "cc5685d2",
   "metadata": {},
   "outputs": [
    {
     "data": {
      "text/plain": [
       "[('Cooked Hot Peppers (Fat Not Added in Cooking)', 42),\n",
       " ('Taco or Tostada with Beef, Cheese and Lettuce', 283),\n",
       " ('Wheaties', 355),\n",
       " ('Okra', 31),\n",
       " ('Banana Whip', 136),\n",
       " ('Beef Tenderloin (Lean Only, Trimmed to 0\" Fat, Cooked, Broiled)', 193),\n",
       " ('7.25 gms Cooked Immature Lima Beans (Canned)', 10.0)]"
      ]
     },
     "execution_count": 133,
     "metadata": {},
     "output_type": "execute_result"
    }
   ],
   "source": [
    "lunch_list"
   ]
  },
  {
   "cell_type": "code",
   "execution_count": 134,
   "id": "ea143e65",
   "metadata": {
    "scrolled": true
   },
   "outputs": [
    {
     "data": {
      "text/plain": [
       "[('Frozen Honeydew (Balls)', 36),\n",
       " ('Soup', 304),\n",
       " ('Cuban Style Black Beans (Habichuelas Negras Guisadas A La Cubana)', 113),\n",
       " ('Cheese Pastry Puffs', 263),\n",
       " ('Orange and Banana Juice', 56),\n",
       " ('Beef Outside Round (Steak, Trimmed to 0\" Fat, Select Grade)', 129),\n",
       " ('75.7 gms Puffed Corn and Oat Cereal', 299.0)]"
      ]
     },
     "execution_count": 134,
     "metadata": {},
     "output_type": "execute_result"
    }
   ],
   "source": [
    "dinner_list"
   ]
  },
  {
   "cell_type": "code",
   "execution_count": null,
   "id": "ac81394f",
   "metadata": {},
   "outputs": [],
   "source": []
  },
  {
   "cell_type": "code",
   "execution_count": null,
   "id": "4c339a94",
   "metadata": {},
   "outputs": [],
   "source": []
  },
  {
   "cell_type": "code",
   "execution_count": null,
   "id": "7b0a1ebd",
   "metadata": {},
   "outputs": [],
   "source": []
  },
  {
   "cell_type": "code",
   "execution_count": null,
   "id": "def5c6b6",
   "metadata": {},
   "outputs": [],
   "source": [
    "#     print(\" loop :\",i)\n",
    "#     print(df_10_list[i][0])    #names  \n",
    "#     print(df_10_list[i][1])    #values  \n"
   ]
  },
  {
   "cell_type": "code",
   "execution_count": null,
   "id": "ca0aaedb",
   "metadata": {},
   "outputs": [],
   "source": []
  },
  {
   "cell_type": "code",
   "execution_count": null,
   "id": "c3a4be95",
   "metadata": {},
   "outputs": [],
   "source": []
  },
  {
   "cell_type": "code",
   "execution_count": null,
   "id": "2025d00d",
   "metadata": {},
   "outputs": [],
   "source": []
  },
  {
   "cell_type": "code",
   "execution_count": null,
   "id": "f03f00b3",
   "metadata": {},
   "outputs": [],
   "source": []
  },
  {
   "cell_type": "code",
   "execution_count": null,
   "id": "a023506c",
   "metadata": {},
   "outputs": [],
   "source": []
  },
  {
   "cell_type": "code",
   "execution_count": null,
   "id": "1b2d97ed",
   "metadata": {},
   "outputs": [],
   "source": []
  },
  {
   "cell_type": "code",
   "execution_count": null,
   "id": "57169224",
   "metadata": {},
   "outputs": [],
   "source": []
  },
  {
   "cell_type": "code",
   "execution_count": null,
   "id": "f8fc8f1c",
   "metadata": {},
   "outputs": [],
   "source": []
  },
  {
   "cell_type": "code",
   "execution_count": null,
   "id": "f3d022b4",
   "metadata": {},
   "outputs": [],
   "source": []
  },
  {
   "cell_type": "code",
   "execution_count": null,
   "id": "1b4cd63b",
   "metadata": {},
   "outputs": [],
   "source": []
  },
  {
   "cell_type": "code",
   "execution_count": null,
   "id": "8459be76",
   "metadata": {},
   "outputs": [],
   "source": []
  },
  {
   "cell_type": "code",
   "execution_count": null,
   "id": "885168b9",
   "metadata": {},
   "outputs": [],
   "source": []
  },
  {
   "cell_type": "code",
   "execution_count": null,
   "id": "a7e0e7a1",
   "metadata": {},
   "outputs": [],
   "source": []
  },
  {
   "cell_type": "code",
   "execution_count": null,
   "id": "9e75b8d1",
   "metadata": {},
   "outputs": [],
   "source": []
  },
  {
   "cell_type": "code",
   "execution_count": null,
   "id": "4a73b189",
   "metadata": {},
   "outputs": [],
   "source": []
  },
  {
   "cell_type": "code",
   "execution_count": null,
   "id": "31da27b0",
   "metadata": {},
   "outputs": [],
   "source": []
  },
  {
   "cell_type": "code",
   "execution_count": null,
   "id": "2755c4d1",
   "metadata": {},
   "outputs": [],
   "source": []
  },
  {
   "cell_type": "code",
   "execution_count": null,
   "id": "ae80602e",
   "metadata": {},
   "outputs": [],
   "source": []
  },
  {
   "cell_type": "code",
   "execution_count": null,
   "id": "c08f7dba",
   "metadata": {},
   "outputs": [],
   "source": []
  },
  {
   "cell_type": "code",
   "execution_count": null,
   "id": "51b25454",
   "metadata": {},
   "outputs": [],
   "source": []
  },
  {
   "cell_type": "code",
   "execution_count": null,
   "id": "0c091e32",
   "metadata": {},
   "outputs": [],
   "source": []
  },
  {
   "cell_type": "code",
   "execution_count": null,
   "id": "5b77b129",
   "metadata": {},
   "outputs": [],
   "source": []
  },
  {
   "cell_type": "code",
   "execution_count": null,
   "id": "c5dd4f08",
   "metadata": {},
   "outputs": [],
   "source": []
  },
  {
   "cell_type": "code",
   "execution_count": null,
   "id": "49a158dd",
   "metadata": {},
   "outputs": [],
   "source": []
  },
  {
   "cell_type": "code",
   "execution_count": null,
   "id": "321c268a",
   "metadata": {},
   "outputs": [],
   "source": []
  },
  {
   "cell_type": "markdown",
   "id": "3cc26d17",
   "metadata": {},
   "source": [
    "# Rough"
   ]
  },
  {
   "cell_type": "code",
   "execution_count": null,
   "id": "4017f839",
   "metadata": {},
   "outputs": [],
   "source": [
    "target_cal = 1500\n",
    "morning_cal = target_cal*0.25\n",
    "lunch_cal = target_cal*0.35\n",
    "dinner_cal = target_cal*0.40\n",
    "\n",
    "morning_cal_consumed = 0\n",
    "lunch_cal_consumed = 0\n",
    "dinner_cal_consumed = 0\n",
    "\n",
    "total_calory_consumed = 0\n",
    "\n",
    "morning_list = []\n",
    "lunch_list = []\n",
    "dinner_list = []\n",
    "\n",
    "for i in range(len(df_20_list)):\n",
    "    while morning_cal>0:\n",
    "        morning_cal = morning_cal - df_20_list[0][1]\n",
    "        print(df_20_list[0]) \n",
    "        morning_cal_consumed = morning_cal_consumed + df_20_list[0][1]\n",
    "        total_calory_consumed = total_calory_consumed + df_20_list[0][1]\n",
    "        morning_list.append(df_20_list.pop(0))\n",
    "        print(\"Inserted to morning=============\")\n",
    "        \n",
    "    while lunch_cal>0:\n",
    "        lunch_cal = lunch_cal - df_20_list[0][1]\n",
    "        print(df_20_list[0]) \n",
    "        lunch_cal_consumed = lunch_cal_consumed + df_20_list[0][1]\n",
    "        total_calory_consumed = total_calory_consumed + df_20_list[0][1]\n",
    "        lunch_list.append(df_20_list.pop(0))\n",
    "        print(\"Inserted to lunch=============\")\n",
    "        \n",
    "    while dinner_cal>0:\n",
    "        dinner_cal = dinner_cal - df_20_list[0][1]\n",
    "        print(df_20_list[0]) \n",
    "        dinner_cal_consumed = dinner_cal_consumed + df_20_list[0][1]\n",
    "        total_calory_consumed = total_calory_consumed + df_20_list[0][1]\n",
    "        dinner_list.append(df_20_list.pop(0))\n",
    "        print(\"Inserted to Dinner =============\")\n",
    "\n",
    "\n",
    "\n",
    "print(\"========morning list=======\")\n",
    "print(morning_list)\n",
    "print(\"========lunch list=======\")\n",
    "print(lunch_list)\n",
    "\n",
    "print(\"morning_cal_consumed : \",morning_cal_consumed)\n",
    "print(\"lunch_cal_consumed : \",lunch_cal_consumed)\n",
    "print(\"dinner_cal_consumed : \",dinner_cal_consumed)\n",
    "print(\"total_calory_consumed : \",total_calory_consumed)\n",
    "\n",
    "    "
   ]
  },
  {
   "cell_type": "code",
   "execution_count": 59,
   "id": "5256c0c8",
   "metadata": {},
   "outputs": [],
   "source": [
    "df_20_list_testing = df_20_list"
   ]
  },
  {
   "cell_type": "code",
   "execution_count": 60,
   "id": "bdfb3680",
   "metadata": {},
   "outputs": [
    {
     "data": {
      "text/plain": [
       "[('Steamed or Poached Sea Bass', 220),\n",
       " ('Quaker Oatmeal Squares', 378),\n",
       " ('Roasted Chicken Roll', 189),\n",
       " ('Pineapple Orange Juice with Sugar (Canned)', 54),\n",
       " ('Milk', 50),\n",
       " ('Beef Brisket (Flat Half, Trimmed to 0\" Fat, Choice Grade, Cooked, Braised)',\n",
       "  221),\n",
       " ('Cooked Escarole (Fat Added in Cooking)', 69),\n",
       " ('Buckwheat Groats (Fat Not Added in Cooking)', 92),\n",
       " ('Guava Paste', 282),\n",
       " ('Creamed Turnips (from Fresh)', 78)]"
      ]
     },
     "execution_count": 60,
     "metadata": {},
     "output_type": "execute_result"
    }
   ],
   "source": [
    "df_20_list_testing"
   ]
  },
  {
   "cell_type": "code",
   "execution_count": 77,
   "id": "3e9addd4",
   "metadata": {},
   "outputs": [],
   "source": [
    "df_20_list_testing.append((str(5)+ ' ghgvhvhv',4))"
   ]
  },
  {
   "cell_type": "code",
   "execution_count": 78,
   "id": "614087e7",
   "metadata": {},
   "outputs": [
    {
     "data": {
      "text/plain": [
       "[('Steamed or Poached Sea Bass', 220),\n",
       " ('Quaker Oatmeal Squares', 378),\n",
       " ('Roasted Chicken Roll', 189),\n",
       " ('Pineapple Orange Juice with Sugar (Canned)', 54),\n",
       " ('Milk', 50),\n",
       " ('Beef Brisket (Flat Half, Trimmed to 0\" Fat, Choice Grade, Cooked, Braised)',\n",
       "  221),\n",
       " ('Cooked Escarole (Fat Added in Cooking)', 69),\n",
       " ('Buckwheat Groats (Fat Not Added in Cooking)', 92),\n",
       " ('Guava Paste', 282),\n",
       " ('Creamed Turnips (from Fresh)', 78),\n",
       " ('sacasacscas', 4),\n",
       " ('ghgvhvhv', 4),\n",
       " (' dcscds ghgvhvhv', 4),\n",
       " ('5 ghgvhvhv', 4)]"
      ]
     },
     "execution_count": 78,
     "metadata": {},
     "output_type": "execute_result"
    }
   ],
   "source": [
    "df_20_list_testing"
   ]
  },
  {
   "cell_type": "code",
   "execution_count": 67,
   "id": "f9580d53",
   "metadata": {},
   "outputs": [],
   "source": [
    "df_20_list_testing.remove(4)"
   ]
  },
  {
   "cell_type": "code",
   "execution_count": null,
   "id": "67218513",
   "metadata": {},
   "outputs": [],
   "source": []
  },
  {
   "cell_type": "code",
   "execution_count": null,
   "id": "53af2660",
   "metadata": {},
   "outputs": [],
   "source": []
  },
  {
   "cell_type": "code",
   "execution_count": null,
   "id": "a4137954",
   "metadata": {},
   "outputs": [],
   "source": [
    "df_10_list_testing = df_10_list\n",
    "df_10_list_testing"
   ]
  },
  {
   "cell_type": "code",
   "execution_count": null,
   "id": "61bca538",
   "metadata": {},
   "outputs": [],
   "source": [
    "df_10_list_testing.remove(('Mexican Coffee Sweetened', 28))"
   ]
  },
  {
   "cell_type": "code",
   "execution_count": null,
   "id": "36437a10",
   "metadata": {},
   "outputs": [],
   "source": [
    "df_10_list_testing"
   ]
  },
  {
   "cell_type": "code",
   "execution_count": null,
   "id": "6cd7f735",
   "metadata": {},
   "outputs": [],
   "source": [
    "len(df_10_list_testing)"
   ]
  },
  {
   "cell_type": "code",
   "execution_count": null,
   "id": "7ee8f75d",
   "metadata": {},
   "outputs": [],
   "source": []
  },
  {
   "cell_type": "code",
   "execution_count": null,
   "id": "bc621749",
   "metadata": {},
   "outputs": [],
   "source": [
    "testing_list =[]"
   ]
  },
  {
   "cell_type": "code",
   "execution_count": null,
   "id": "516f218f",
   "metadata": {},
   "outputs": [],
   "source": [
    "testing_list.append(64)"
   ]
  },
  {
   "cell_type": "code",
   "execution_count": null,
   "id": "f0a88060",
   "metadata": {},
   "outputs": [],
   "source": [
    "testing_list.pop(1)   #from any position in the list. "
   ]
  },
  {
   "cell_type": "code",
   "execution_count": null,
   "id": "ab09fb6f",
   "metadata": {},
   "outputs": [],
   "source": [
    "testing_list.remove(1)  #specific"
   ]
  },
  {
   "cell_type": "code",
   "execution_count": null,
   "id": "06fbd15d",
   "metadata": {},
   "outputs": [],
   "source": [
    "testing_list"
   ]
  },
  {
   "cell_type": "code",
   "execution_count": null,
   "id": "d75f58f8",
   "metadata": {},
   "outputs": [],
   "source": []
  }
 ],
 "metadata": {
  "kernelspec": {
   "display_name": "Python 3 (ipykernel)",
   "language": "python",
   "name": "python3"
  },
  "language_info": {
   "codemirror_mode": {
    "name": "ipython",
    "version": 3
   },
   "file_extension": ".py",
   "mimetype": "text/x-python",
   "name": "python",
   "nbconvert_exporter": "python",
   "pygments_lexer": "ipython3",
   "version": "3.9.7"
  }
 },
 "nbformat": 4,
 "nbformat_minor": 5
}
