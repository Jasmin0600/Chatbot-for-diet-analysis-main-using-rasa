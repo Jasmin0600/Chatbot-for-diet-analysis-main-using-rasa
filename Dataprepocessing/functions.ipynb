{
 "cells": [
  {
   "cell_type": "code",
   "execution_count": 20,
   "id": "3c77dafb",
   "metadata": {},
   "outputs": [],
   "source": [
    "import pandas as pd"
   ]
  },
  {
   "cell_type": "code",
   "execution_count": 21,
   "id": "8068c602",
   "metadata": {},
   "outputs": [
    {
     "data": {
      "text/html": [
       "<div>\n",
       "<style scoped>\n",
       "    .dataframe tbody tr th:only-of-type {\n",
       "        vertical-align: middle;\n",
       "    }\n",
       "\n",
       "    .dataframe tbody tr th {\n",
       "        vertical-align: top;\n",
       "    }\n",
       "\n",
       "    .dataframe thead th {\n",
       "        text-align: right;\n",
       "    }\n",
       "</style>\n",
       "<table border=\"1\" class=\"dataframe\">\n",
       "  <thead>\n",
       "    <tr style=\"text-align: right;\">\n",
       "      <th></th>\n",
       "      <th>Unnamed: 0</th>\n",
       "      <th>food_id</th>\n",
       "      <th>food_name</th>\n",
       "      <th>calcium</th>\n",
       "      <th>calories</th>\n",
       "      <th>carbohydrate</th>\n",
       "      <th>fat</th>\n",
       "      <th>potassium</th>\n",
       "      <th>protein</th>\n",
       "      <th>serving_description</th>\n",
       "      <th>sodium</th>\n",
       "      <th>sugar</th>\n",
       "      <th>vitamin_a</th>\n",
       "      <th>vitamin_c</th>\n",
       "    </tr>\n",
       "  </thead>\n",
       "  <tbody>\n",
       "    <tr>\n",
       "      <th>0</th>\n",
       "      <td>2</td>\n",
       "      <td>792</td>\n",
       "      <td>Human Milk</td>\n",
       "      <td>3</td>\n",
       "      <td>70</td>\n",
       "      <td>6.89</td>\n",
       "      <td>4.38</td>\n",
       "      <td>51</td>\n",
       "      <td>1.03</td>\n",
       "      <td>100 g</td>\n",
       "      <td>17</td>\n",
       "      <td>6.89</td>\n",
       "      <td>4</td>\n",
       "      <td>8</td>\n",
       "    </tr>\n",
       "    <tr>\n",
       "      <th>1</th>\n",
       "      <td>11</td>\n",
       "      <td>793</td>\n",
       "      <td>Milk</td>\n",
       "      <td>12</td>\n",
       "      <td>50</td>\n",
       "      <td>4.71</td>\n",
       "      <td>2.00</td>\n",
       "      <td>148</td>\n",
       "      <td>3.29</td>\n",
       "      <td>100 g</td>\n",
       "      <td>41</td>\n",
       "      <td>5.16</td>\n",
       "      <td>3</td>\n",
       "      <td>0</td>\n",
       "    </tr>\n",
       "    <tr>\n",
       "      <th>2</th>\n",
       "      <td>20</td>\n",
       "      <td>794</td>\n",
       "      <td>Whole Milk</td>\n",
       "      <td>11</td>\n",
       "      <td>60</td>\n",
       "      <td>4.52</td>\n",
       "      <td>3.25</td>\n",
       "      <td>143</td>\n",
       "      <td>3.22</td>\n",
       "      <td>100 g</td>\n",
       "      <td>40</td>\n",
       "      <td>5.26</td>\n",
       "      <td>2</td>\n",
       "      <td>0</td>\n",
       "    </tr>\n",
       "    <tr>\n",
       "      <th>3</th>\n",
       "      <td>28</td>\n",
       "      <td>795</td>\n",
       "      <td>Low-Sodium Whole Milk</td>\n",
       "      <td>10</td>\n",
       "      <td>61</td>\n",
       "      <td>4.46</td>\n",
       "      <td>3.46</td>\n",
       "      <td>253</td>\n",
       "      <td>3.10</td>\n",
       "      <td>100 g</td>\n",
       "      <td>3</td>\n",
       "      <td>4.46</td>\n",
       "      <td>2</td>\n",
       "      <td>2</td>\n",
       "    </tr>\n",
       "    <tr>\n",
       "      <th>4</th>\n",
       "      <td>36</td>\n",
       "      <td>796</td>\n",
       "      <td>Whole Milk (Calcium Fortified)</td>\n",
       "      <td>41</td>\n",
       "      <td>60</td>\n",
       "      <td>4.51</td>\n",
       "      <td>3.24</td>\n",
       "      <td>143</td>\n",
       "      <td>3.21</td>\n",
       "      <td>100 g</td>\n",
       "      <td>40</td>\n",
       "      <td>5.24</td>\n",
       "      <td>2</td>\n",
       "      <td>0</td>\n",
       "    </tr>\n",
       "  </tbody>\n",
       "</table>\n",
       "</div>"
      ],
      "text/plain": [
       "   Unnamed: 0  food_id                       food_name  calcium  calories  \\\n",
       "0           2      792                      Human Milk        3        70   \n",
       "1          11      793                            Milk       12        50   \n",
       "2          20      794                      Whole Milk       11        60   \n",
       "3          28      795           Low-Sodium Whole Milk       10        61   \n",
       "4          36      796  Whole Milk (Calcium Fortified)       41        60   \n",
       "\n",
       "   carbohydrate   fat  potassium  protein serving_description  sodium  sugar  \\\n",
       "0          6.89  4.38         51     1.03               100 g      17   6.89   \n",
       "1          4.71  2.00        148     3.29               100 g      41   5.16   \n",
       "2          4.52  3.25        143     3.22               100 g      40   5.26   \n",
       "3          4.46  3.46        253     3.10               100 g       3   4.46   \n",
       "4          4.51  3.24        143     3.21               100 g      40   5.24   \n",
       "\n",
       "   vitamin_a  vitamin_c  \n",
       "0          4          8  \n",
       "1          3          0  \n",
       "2          2          0  \n",
       "3          2          2  \n",
       "4          2          0  "
      ]
     },
     "execution_count": 21,
     "metadata": {},
     "output_type": "execute_result"
    }
   ],
   "source": [
    "df = pd.read_csv('food_100g.csv')\n",
    "df.head()"
   ]
  },
  {
   "cell_type": "code",
   "execution_count": 22,
   "id": "64f56116",
   "metadata": {},
   "outputs": [
    {
     "data": {
      "text/plain": [
       "(11132, 14)"
      ]
     },
     "execution_count": 22,
     "metadata": {},
     "output_type": "execute_result"
    }
   ],
   "source": [
    "df.shape"
   ]
  },
  {
   "cell_type": "code",
   "execution_count": 32,
   "id": "53c933ee",
   "metadata": {},
   "outputs": [],
   "source": [
    "df_20 = df.sample(n=30)"
   ]
  },
  {
   "cell_type": "code",
   "execution_count": 33,
   "id": "0bc0c335",
   "metadata": {},
   "outputs": [
    {
     "data": {
      "text/html": [
       "<div>\n",
       "<style scoped>\n",
       "    .dataframe tbody tr th:only-of-type {\n",
       "        vertical-align: middle;\n",
       "    }\n",
       "\n",
       "    .dataframe tbody tr th {\n",
       "        vertical-align: top;\n",
       "    }\n",
       "\n",
       "    .dataframe thead th {\n",
       "        text-align: right;\n",
       "    }\n",
       "</style>\n",
       "<table border=\"1\" class=\"dataframe\">\n",
       "  <thead>\n",
       "    <tr style=\"text-align: right;\">\n",
       "      <th></th>\n",
       "      <th>Unnamed: 0</th>\n",
       "      <th>food_id</th>\n",
       "      <th>food_name</th>\n",
       "      <th>calcium</th>\n",
       "      <th>calories</th>\n",
       "      <th>carbohydrate</th>\n",
       "      <th>fat</th>\n",
       "      <th>potassium</th>\n",
       "      <th>protein</th>\n",
       "      <th>serving_description</th>\n",
       "      <th>sodium</th>\n",
       "      <th>sugar</th>\n",
       "      <th>vitamin_a</th>\n",
       "      <th>vitamin_c</th>\n",
       "    </tr>\n",
       "  </thead>\n",
       "  <tbody>\n",
       "    <tr>\n",
       "      <th>6518</th>\n",
       "      <td>37317</td>\n",
       "      <td>5306</td>\n",
       "      <td>Fresh Grapefruit and Orange Juice</td>\n",
       "      <td>1</td>\n",
       "      <td>42</td>\n",
       "      <td>9.80</td>\n",
       "      <td>0.15</td>\n",
       "      <td>181</td>\n",
       "      <td>0.60</td>\n",
       "      <td>100 g</td>\n",
       "      <td>1</td>\n",
       "      <td>8.75</td>\n",
       "      <td>2</td>\n",
       "      <td>73</td>\n",
       "    </tr>\n",
       "    <tr>\n",
       "      <th>7607</th>\n",
       "      <td>43386</td>\n",
       "      <td>6602</td>\n",
       "      <td>Cooked Palm Hearts (Fat Not Added in Cooking)</td>\n",
       "      <td>2</td>\n",
       "      <td>115</td>\n",
       "      <td>25.61</td>\n",
       "      <td>0.20</td>\n",
       "      <td>1806</td>\n",
       "      <td>2.70</td>\n",
       "      <td>100 g</td>\n",
       "      <td>14</td>\n",
       "      <td>17.16</td>\n",
       "      <td>1</td>\n",
       "      <td>11</td>\n",
       "    </tr>\n",
       "    <tr>\n",
       "      <th>9940</th>\n",
       "      <td>54741</td>\n",
       "      <td>37492</td>\n",
       "      <td>Beef Knuckle (Tip Side, Steak, Lean Only, Trim...</td>\n",
       "      <td>1</td>\n",
       "      <td>133</td>\n",
       "      <td>0.00</td>\n",
       "      <td>4.66</td>\n",
       "      <td>378</td>\n",
       "      <td>21.41</td>\n",
       "      <td>100 g</td>\n",
       "      <td>62</td>\n",
       "      <td>0.00</td>\n",
       "      <td>0</td>\n",
       "      <td>0</td>\n",
       "    </tr>\n",
       "    <tr>\n",
       "      <th>9260</th>\n",
       "      <td>51653</td>\n",
       "      <td>35668</td>\n",
       "      <td>Fruit Harvest Apple Cinnamon Kellogg's Cereals...</td>\n",
       "      <td>4</td>\n",
       "      <td>397</td>\n",
       "      <td>83.00</td>\n",
       "      <td>5.00</td>\n",
       "      <td>317</td>\n",
       "      <td>7.00</td>\n",
       "      <td>100 g</td>\n",
       "      <td>490</td>\n",
       "      <td>37.00</td>\n",
       "      <td>16</td>\n",
       "      <td>0</td>\n",
       "    </tr>\n",
       "    <tr>\n",
       "      <th>3030</th>\n",
       "      <td>18378</td>\n",
       "      <td>4310</td>\n",
       "      <td>Toast Thins Crackers (Rye, Pumpernickel, White...</td>\n",
       "      <td>5</td>\n",
       "      <td>473</td>\n",
       "      <td>64.90</td>\n",
       "      <td>20.60</td>\n",
       "      <td>183</td>\n",
       "      <td>8.60</td>\n",
       "      <td>100 g</td>\n",
       "      <td>795</td>\n",
       "      <td>13.04</td>\n",
       "      <td>0</td>\n",
       "      <td>0</td>\n",
       "    </tr>\n",
       "  </tbody>\n",
       "</table>\n",
       "</div>"
      ],
      "text/plain": [
       "      Unnamed: 0  food_id                                          food_name  \\\n",
       "6518       37317     5306                  Fresh Grapefruit and Orange Juice   \n",
       "7607       43386     6602      Cooked Palm Hearts (Fat Not Added in Cooking)   \n",
       "9940       54741    37492  Beef Knuckle (Tip Side, Steak, Lean Only, Trim...   \n",
       "9260       51653    35668  Fruit Harvest Apple Cinnamon Kellogg's Cereals...   \n",
       "3030       18378     4310  Toast Thins Crackers (Rye, Pumpernickel, White...   \n",
       "\n",
       "      calcium  calories  carbohydrate    fat  potassium  protein  \\\n",
       "6518        1        42          9.80   0.15        181     0.60   \n",
       "7607        2       115         25.61   0.20       1806     2.70   \n",
       "9940        1       133          0.00   4.66        378    21.41   \n",
       "9260        4       397         83.00   5.00        317     7.00   \n",
       "3030        5       473         64.90  20.60        183     8.60   \n",
       "\n",
       "     serving_description  sodium  sugar  vitamin_a  vitamin_c  \n",
       "6518               100 g       1   8.75          2         73  \n",
       "7607               100 g      14  17.16          1         11  \n",
       "9940               100 g      62   0.00          0          0  \n",
       "9260               100 g     490  37.00         16          0  \n",
       "3030               100 g     795  13.04          0          0  "
      ]
     },
     "execution_count": 33,
     "metadata": {},
     "output_type": "execute_result"
    }
   ],
   "source": [
    "df_20.head()"
   ]
  },
  {
   "cell_type": "code",
   "execution_count": 34,
   "id": "dfba9087",
   "metadata": {},
   "outputs": [
    {
     "data": {
      "text/plain": [
       "30"
      ]
     },
     "execution_count": 34,
     "metadata": {},
     "output_type": "execute_result"
    }
   ],
   "source": [
    "df_20_list = list(zip(df_20['food_name'],df_20['calories']))\n",
    "df_20_list_sorted = sorted(df_20_list,key=lambda l:l[1])\n",
    "df_20_list\n",
    "len(df_20_list)"
   ]
  },
  {
   "cell_type": "code",
   "execution_count": 35,
   "id": "22dfe572",
   "metadata": {},
   "outputs": [
    {
     "name": "stdout",
     "output_type": "stream",
     "text": [
      "('Fresh Grapefruit and Orange Juice', 42)\n",
      "('Cooked Palm Hearts (Fat Not Added in Cooking)', 115)\n",
      "('Beef Knuckle (Tip Side, Steak, Lean Only, Trimmed to 0\" Fat, Choice Grade)', 133)\n",
      "(\"Fruit Harvest Apple Cinnamon Kellogg's Cereals Ready-to-Eat\", 397)\n",
      "('Toast Thins Crackers (Rye, Pumpernickel, White Flour)', 473)\n",
      "('Light or Lite Cream Cheese', 231)\n",
      "('Apple-Orange-Pineapple Juice Drink', 52)\n",
      "('Soft Serve Light Ice Cream Sundae with Chocolate or Fudge Topping (with Whipped Cream)', 247)\n",
      "(\"Cap'N Crunch's Christmas Crunch\", 401)\n",
      "('Beef Barbecue Submarine Sandwich on Bun', 217)\n",
      "(\"Kellogg's Raisin Mini-Wheats Kellogg Cereals Ready-to-Eat\", 342)\n",
      "('Chicken (No Broth, Canned)', 184)\n",
      "('Diet Cheesecake with Fruit', 214)\n",
      "('Ice Cream Sundae with Chocolate or Fudge Topping (with Whipped Cream)', 185)\n",
      "('Beef Eye Of Round (Lean Only, Trimmed to 0\" Fat, Choice Grade, Cooked, Roasted)', 162)\n",
      "('Cheese-Filled Pastry', 275)\n",
      "('Apple and Fruit Salad with Dressing', 58)\n",
      "('Refried Beans with Cheese', 158)\n",
      "('Minestrone Soup (Reduced Sodium, Canned)', 50)\n",
      "('Pear Unsweetened in Water Pack (Cooked or Canned)', 29)\n",
      "('Baby Food Junior Chicken', 93)\n",
      "('Cooked Spinach (from Fresh, Fat Not Added in Cooking)', 23)\n",
      "('Cabbage with Ham Hocks (Mixture)', 96)\n",
      "('Restructured Potato Chips', 558)\n",
      "('Cooked Okra (from Fresh, Fat Not Added in Cooking)', 22)\n",
      "('Roasted Light and Dark Turkey Meat', 220)\n",
      "('Calamondin', 53)\n",
      "('Roast Beef Spread', 223)\n",
      "('Cooked Peas and Carrots (from Fresh, Fat Not Added in Cooking)', 64)\n",
      "('Dietetic or Low Calorie Gumdrops', 162)\n"
     ]
    }
   ],
   "source": [
    "for i in df_20_list:\n",
    "    print(i)"
   ]
  },
  {
   "cell_type": "code",
   "execution_count": 36,
   "id": "36ff894f",
   "metadata": {},
   "outputs": [
    {
     "name": "stdout",
     "output_type": "stream",
     "text": [
      "Target Calory :  2000\n",
      "morning calory needed :  500.0\n",
      "lunch calory needed :  700.0\n",
      "dinner calory needed :  800.0\n",
      "\n",
      "\n",
      "\n",
      "('Fresh Grapefruit and Orange Juice', 42)\n",
      "Inserted to morning=============\n",
      "('Cooked Palm Hearts (Fat Not Added in Cooking)', 115)\n",
      "Inserted to morning=============\n",
      "('Beef Knuckle (Tip Side, Steak, Lean Only, Trimmed to 0\" Fat, Choice Grade)', 133)\n",
      "Inserted to morning=============\n",
      "needed grams :  52.9\n",
      "(\"Fruit Harvest Apple Cinnamon Kellogg's Cereals Ready-to-Eat\", 397)\n",
      "('Toast Thins Crackers (Rye, Pumpernickel, White Flour)', 473)\n",
      "Inserted to lunch=============\n",
      "needed grams :  98.27\n",
      "('Light or Lite Cream Cheese', 231)\n",
      "('Apple-Orange-Pineapple Juice Drink', 52)\n",
      "Inserted to Dinner=============\n",
      "('Soft Serve Light Ice Cream Sundae with Chocolate or Fudge Topping (with Whipped Cream)', 247)\n",
      "Inserted to Dinner=============\n",
      "(\"Cap'N Crunch's Christmas Crunch\", 401)\n",
      "Inserted to Dinner=============\n",
      "needed grams :  46.08\n",
      "('Beef Barbecue Submarine Sandwich on Bun', 217)\n",
      "\n",
      "\n",
      "========morning list=======\n",
      "[('Fresh Grapefruit and Orange Juice', 42), ('Cooked Palm Hearts (Fat Not Added in Cooking)', 115), ('Beef Knuckle (Tip Side, Steak, Lean Only, Trimmed to 0\" Fat, Choice Grade)', 133), (\"52.9 gms Fruit Harvest Apple Cinnamon Kellogg's Cereals Ready-to-Eat\", 210.0)]\n",
      "========lunch list=======\n",
      "[('Toast Thins Crackers (Rye, Pumpernickel, White Flour)', 473), ('98.27 gms Light or Lite Cream Cheese', 227.0)]\n",
      "========dinner list=======\n",
      "[('Apple-Orange-Pineapple Juice Drink', 52), ('Soft Serve Light Ice Cream Sundae with Chocolate or Fudge Topping (with Whipped Cream)', 247), (\"Cap'N Crunch's Christmas Crunch\", 401), ('46.08 gms Beef Barbecue Submarine Sandwich on Bun', 100.0)]\n",
      "\n",
      "\n",
      "morning_cal_consumed :  500.0\n",
      "lunch_cal_consumed :  700.0\n",
      "dinner_cal_consumed :  800.0\n",
      "total_calory_consumed :  2000.0\n"
     ]
    }
   ],
   "source": [
    "target_cal = 2000\n",
    "morning_cal = target_cal*0.25\n",
    "lunch_cal = target_cal*0.35\n",
    "dinner_cal = target_cal*0.40\n",
    "print(\"Target Calory : \", target_cal)\n",
    "print(\"morning calory needed : \",morning_cal)\n",
    "print(\"lunch calory needed : \",lunch_cal)\n",
    "print(\"dinner calory needed : \",dinner_cal)\n",
    "print(\"\\n\\n\")\n",
    "\n",
    "morning_cal_consumed = 0\n",
    "lunch_cal_consumed = 0\n",
    "dinner_cal_consumed = 0\n",
    "total_calory_consumed = 0\n",
    "\n",
    "morning_list = []\n",
    "lunch_list = []\n",
    "dinner_list = []\n",
    "\n",
    "while morning_cal>0:\n",
    "    if morning_cal-df_20_list[0][1] < 0:\n",
    "        need_gms = round((100*morning_cal)/df_20_list[0][1],2)\n",
    "        print(\"needed grams : \", need_gms)\n",
    "        print(df_20_list[0]) \n",
    "        morning_cal_consumed = morning_cal_consumed + morning_cal\n",
    "        total_calory_consumed = total_calory_consumed + morning_cal\n",
    "        morning_list.append((str(need_gms) +' gms '+ df_20_list[0][0] ,morning_cal))\n",
    "        df_20_list.pop(0)\n",
    "        break\n",
    "    else:\n",
    "        morning_cal = morning_cal - df_20_list[0][1]\n",
    "        print(df_20_list[0]) \n",
    "        morning_cal_consumed = morning_cal_consumed + df_20_list[0][1]\n",
    "        total_calory_consumed = total_calory_consumed + df_20_list[0][1]\n",
    "        morning_list.append(df_20_list.pop(0))\n",
    "        print(\"Inserted to morning=============\")\n",
    "\n",
    "\n",
    "while lunch_cal>0:\n",
    "    if lunch_cal-df_20_list[0][1] < 0:\n",
    "        need_gms = round((100*lunch_cal)/df_20_list[0][1],2)\n",
    "        print(\"needed grams : \", need_gms)\n",
    "        print(df_20_list[0]) \n",
    "        lunch_cal_consumed = lunch_cal_consumed + lunch_cal\n",
    "        total_calory_consumed = total_calory_consumed + lunch_cal\n",
    "        lunch_list.append((str(need_gms) +' gms '+ df_20_list[0][0] ,lunch_cal))\n",
    "        df_20_list.pop(0)\n",
    "        break        \n",
    "    else:\n",
    "        lunch_cal = lunch_cal - df_20_list[0][1]\n",
    "        print(df_20_list[0]) \n",
    "        lunch_cal_consumed = lunch_cal_consumed + df_20_list[0][1]\n",
    "        total_calory_consumed = total_calory_consumed + df_20_list[0][1]\n",
    "        lunch_list.append(df_20_list.pop(0))\n",
    "        print(\"Inserted to lunch=============\")\n",
    "\n",
    "while dinner_cal>0:\n",
    "    if dinner_cal-df_20_list[0][1] < 0:\n",
    "        need_gms = round((100*dinner_cal)/df_20_list[0][1],2)\n",
    "        print(\"needed grams : \", need_gms)\n",
    "        print(df_20_list[0]) \n",
    "        dinner_cal_consumed = dinner_cal_consumed + dinner_cal\n",
    "        total_calory_consumed = total_calory_consumed + dinner_cal\n",
    "        dinner_list.append((str(need_gms) +' gms '+ df_20_list[0][0] ,dinner_cal))\n",
    "        df_20_list.pop(0)\n",
    "        break        \n",
    "    else:\n",
    "        dinner_cal = dinner_cal - df_20_list[0][1]\n",
    "        print(df_20_list[0]) \n",
    "        dinner_cal_consumed = dinner_cal_consumed + df_20_list[0][1]\n",
    "        total_calory_consumed = total_calory_consumed + df_20_list[0][1]\n",
    "        dinner_list.append(df_20_list.pop(0))\n",
    "        print(\"Inserted to Dinner=============\")\n",
    "\n",
    "\n",
    "print(\"\\n\\n========morning list=======\")\n",
    "print(morning_list)\n",
    "print(\"========lunch list=======\")\n",
    "print(lunch_list)\n",
    "print(\"========dinner list=======\")\n",
    "print(dinner_list)\n",
    "\n",
    "print(\"\\n\\nmorning_cal_consumed : \",morning_cal_consumed)\n",
    "print(\"lunch_cal_consumed : \",lunch_cal_consumed)\n",
    "print(\"dinner_cal_consumed : \",dinner_cal_consumed)\n",
    "print(\"total_calory_consumed : \",total_calory_consumed)\n",
    "\n",
    "    "
   ]
  },
  {
   "cell_type": "code",
   "execution_count": null,
   "id": "263a776e",
   "metadata": {},
   "outputs": [],
   "source": []
  },
  {
   "cell_type": "code",
   "execution_count": null,
   "id": "122d2906",
   "metadata": {},
   "outputs": [],
   "source": []
  },
  {
   "cell_type": "code",
   "execution_count": null,
   "id": "cf2cb01b",
   "metadata": {},
   "outputs": [],
   "source": []
  },
  {
   "cell_type": "code",
   "execution_count": null,
   "id": "a515a58c",
   "metadata": {},
   "outputs": [],
   "source": []
  },
  {
   "cell_type": "code",
   "execution_count": null,
   "id": "4d7acaa7",
   "metadata": {},
   "outputs": [],
   "source": []
  },
  {
   "cell_type": "code",
   "execution_count": 37,
   "id": "27c5a491",
   "metadata": {},
   "outputs": [
    {
     "data": {
      "text/plain": [
       "[('Fresh Grapefruit and Orange Juice', 42),\n",
       " ('Cooked Palm Hearts (Fat Not Added in Cooking)', 115),\n",
       " ('Beef Knuckle (Tip Side, Steak, Lean Only, Trimmed to 0\" Fat, Choice Grade)',\n",
       "  133),\n",
       " (\"52.9 gms Fruit Harvest Apple Cinnamon Kellogg's Cereals Ready-to-Eat\",\n",
       "  210.0)]"
      ]
     },
     "execution_count": 37,
     "metadata": {},
     "output_type": "execute_result"
    }
   ],
   "source": [
    "morning_list"
   ]
  },
  {
   "cell_type": "code",
   "execution_count": 38,
   "id": "cc5685d2",
   "metadata": {},
   "outputs": [
    {
     "data": {
      "text/plain": [
       "[('Toast Thins Crackers (Rye, Pumpernickel, White Flour)', 473),\n",
       " ('98.27 gms Light or Lite Cream Cheese', 227.0)]"
      ]
     },
     "execution_count": 38,
     "metadata": {},
     "output_type": "execute_result"
    }
   ],
   "source": [
    "lunch_list"
   ]
  },
  {
   "cell_type": "code",
   "execution_count": 39,
   "id": "ea143e65",
   "metadata": {
    "scrolled": true
   },
   "outputs": [
    {
     "data": {
      "text/plain": [
       "[('Apple-Orange-Pineapple Juice Drink', 52),\n",
       " ('Soft Serve Light Ice Cream Sundae with Chocolate or Fudge Topping (with Whipped Cream)',\n",
       "  247),\n",
       " (\"Cap'N Crunch's Christmas Crunch\", 401),\n",
       " ('46.08 gms Beef Barbecue Submarine Sandwich on Bun', 100.0)]"
      ]
     },
     "execution_count": 39,
     "metadata": {},
     "output_type": "execute_result"
    }
   ],
   "source": [
    "dinner_list"
   ]
  },
  {
   "cell_type": "code",
   "execution_count": null,
   "id": "ac81394f",
   "metadata": {},
   "outputs": [],
   "source": []
  },
  {
   "cell_type": "code",
   "execution_count": null,
   "id": "4c339a94",
   "metadata": {},
   "outputs": [],
   "source": []
  },
  {
   "cell_type": "code",
   "execution_count": null,
   "id": "7b0a1ebd",
   "metadata": {},
   "outputs": [],
   "source": []
  },
  {
   "cell_type": "code",
   "execution_count": null,
   "id": "def5c6b6",
   "metadata": {},
   "outputs": [],
   "source": [
    "#     print(\" loop :\",i)\n",
    "#     print(df_10_list[i][0])    #names  \n",
    "#     print(df_10_list[i][1])    #values  \n"
   ]
  },
  {
   "cell_type": "code",
   "execution_count": null,
   "id": "ca0aaedb",
   "metadata": {},
   "outputs": [],
   "source": []
  },
  {
   "cell_type": "code",
   "execution_count": null,
   "id": "c3a4be95",
   "metadata": {},
   "outputs": [],
   "source": []
  },
  {
   "cell_type": "code",
   "execution_count": null,
   "id": "2025d00d",
   "metadata": {},
   "outputs": [],
   "source": []
  },
  {
   "cell_type": "code",
   "execution_count": null,
   "id": "f03f00b3",
   "metadata": {},
   "outputs": [],
   "source": []
  },
  {
   "cell_type": "code",
   "execution_count": null,
   "id": "a023506c",
   "metadata": {},
   "outputs": [],
   "source": []
  },
  {
   "cell_type": "code",
   "execution_count": null,
   "id": "1b2d97ed",
   "metadata": {},
   "outputs": [],
   "source": []
  },
  {
   "cell_type": "code",
   "execution_count": null,
   "id": "57169224",
   "metadata": {},
   "outputs": [],
   "source": []
  },
  {
   "cell_type": "code",
   "execution_count": null,
   "id": "f8fc8f1c",
   "metadata": {},
   "outputs": [],
   "source": []
  },
  {
   "cell_type": "code",
   "execution_count": null,
   "id": "f3d022b4",
   "metadata": {},
   "outputs": [],
   "source": []
  },
  {
   "cell_type": "code",
   "execution_count": null,
   "id": "1b4cd63b",
   "metadata": {},
   "outputs": [],
   "source": []
  },
  {
   "cell_type": "code",
   "execution_count": null,
   "id": "8459be76",
   "metadata": {},
   "outputs": [],
   "source": []
  },
  {
   "cell_type": "code",
   "execution_count": null,
   "id": "885168b9",
   "metadata": {},
   "outputs": [],
   "source": []
  },
  {
   "cell_type": "code",
   "execution_count": null,
   "id": "a7e0e7a1",
   "metadata": {},
   "outputs": [],
   "source": []
  },
  {
   "cell_type": "code",
   "execution_count": null,
   "id": "9e75b8d1",
   "metadata": {},
   "outputs": [],
   "source": []
  },
  {
   "cell_type": "code",
   "execution_count": null,
   "id": "4a73b189",
   "metadata": {},
   "outputs": [],
   "source": []
  },
  {
   "cell_type": "code",
   "execution_count": null,
   "id": "31da27b0",
   "metadata": {},
   "outputs": [],
   "source": []
  },
  {
   "cell_type": "code",
   "execution_count": null,
   "id": "2755c4d1",
   "metadata": {},
   "outputs": [],
   "source": []
  },
  {
   "cell_type": "code",
   "execution_count": null,
   "id": "ae80602e",
   "metadata": {},
   "outputs": [],
   "source": []
  },
  {
   "cell_type": "code",
   "execution_count": null,
   "id": "c08f7dba",
   "metadata": {},
   "outputs": [],
   "source": []
  },
  {
   "cell_type": "code",
   "execution_count": null,
   "id": "51b25454",
   "metadata": {},
   "outputs": [],
   "source": []
  },
  {
   "cell_type": "code",
   "execution_count": null,
   "id": "0c091e32",
   "metadata": {},
   "outputs": [],
   "source": []
  },
  {
   "cell_type": "code",
   "execution_count": null,
   "id": "5b77b129",
   "metadata": {},
   "outputs": [],
   "source": []
  },
  {
   "cell_type": "code",
   "execution_count": null,
   "id": "c5dd4f08",
   "metadata": {},
   "outputs": [],
   "source": []
  },
  {
   "cell_type": "code",
   "execution_count": null,
   "id": "49a158dd",
   "metadata": {},
   "outputs": [],
   "source": []
  },
  {
   "cell_type": "code",
   "execution_count": null,
   "id": "321c268a",
   "metadata": {},
   "outputs": [],
   "source": []
  },
  {
   "cell_type": "markdown",
   "id": "3cc26d17",
   "metadata": {},
   "source": [
    "# Rough"
   ]
  },
  {
   "cell_type": "code",
   "execution_count": null,
   "id": "4017f839",
   "metadata": {},
   "outputs": [],
   "source": [
    "target_cal = 1500\n",
    "morning_cal = target_cal*0.25\n",
    "lunch_cal = target_cal*0.35\n",
    "dinner_cal = target_cal*0.40\n",
    "\n",
    "morning_cal_consumed = 0\n",
    "lunch_cal_consumed = 0\n",
    "dinner_cal_consumed = 0\n",
    "\n",
    "total_calory_consumed = 0\n",
    "\n",
    "morning_list = []\n",
    "lunch_list = []\n",
    "dinner_list = []\n",
    "\n",
    "for i in range(len(df_20_list)):\n",
    "    while morning_cal>0:\n",
    "        morning_cal = morning_cal - df_20_list[0][1]\n",
    "        print(df_20_list[0]) \n",
    "        morning_cal_consumed = morning_cal_consumed + df_20_list[0][1]\n",
    "        total_calory_consumed = total_calory_consumed + df_20_list[0][1]\n",
    "        morning_list.append(df_20_list.pop(0))\n",
    "        print(\"Inserted to morning=============\")\n",
    "        \n",
    "    while lunch_cal>0:\n",
    "        lunch_cal = lunch_cal - df_20_list[0][1]\n",
    "        print(df_20_list[0]) \n",
    "        lunch_cal_consumed = lunch_cal_consumed + df_20_list[0][1]\n",
    "        total_calory_consumed = total_calory_consumed + df_20_list[0][1]\n",
    "        lunch_list.append(df_20_list.pop(0))\n",
    "        print(\"Inserted to lunch=============\")\n",
    "        \n",
    "    while dinner_cal>0:\n",
    "        dinner_cal = dinner_cal - df_20_list[0][1]\n",
    "        print(df_20_list[0]) \n",
    "        dinner_cal_consumed = dinner_cal_consumed + df_20_list[0][1]\n",
    "        total_calory_consumed = total_calory_consumed + df_20_list[0][1]\n",
    "        dinner_list.append(df_20_list.pop(0))\n",
    "        print(\"Inserted to Dinner =============\")\n",
    "\n",
    "\n",
    "\n",
    "print(\"========morning list=======\")\n",
    "print(morning_list)\n",
    "print(\"========lunch list=======\")\n",
    "print(lunch_list)\n",
    "\n",
    "print(\"morning_cal_consumed : \",morning_cal_consumed)\n",
    "print(\"lunch_cal_consumed : \",lunch_cal_consumed)\n",
    "print(\"dinner_cal_consumed : \",dinner_cal_consumed)\n",
    "print(\"total_calory_consumed : \",total_calory_consumed)\n",
    "\n",
    "    "
   ]
  },
  {
   "cell_type": "code",
   "execution_count": 59,
   "id": "5256c0c8",
   "metadata": {},
   "outputs": [],
   "source": [
    "df_20_list_testing = df_20_list"
   ]
  },
  {
   "cell_type": "code",
   "execution_count": 60,
   "id": "bdfb3680",
   "metadata": {},
   "outputs": [
    {
     "data": {
      "text/plain": [
       "[('Steamed or Poached Sea Bass', 220),\n",
       " ('Quaker Oatmeal Squares', 378),\n",
       " ('Roasted Chicken Roll', 189),\n",
       " ('Pineapple Orange Juice with Sugar (Canned)', 54),\n",
       " ('Milk', 50),\n",
       " ('Beef Brisket (Flat Half, Trimmed to 0\" Fat, Choice Grade, Cooked, Braised)',\n",
       "  221),\n",
       " ('Cooked Escarole (Fat Added in Cooking)', 69),\n",
       " ('Buckwheat Groats (Fat Not Added in Cooking)', 92),\n",
       " ('Guava Paste', 282),\n",
       " ('Creamed Turnips (from Fresh)', 78)]"
      ]
     },
     "execution_count": 60,
     "metadata": {},
     "output_type": "execute_result"
    }
   ],
   "source": [
    "df_20_list_testing"
   ]
  },
  {
   "cell_type": "code",
   "execution_count": 77,
   "id": "3e9addd4",
   "metadata": {},
   "outputs": [],
   "source": [
    "df_20_list_testing.append((str(5)+ ' ghgvhvhv',4))"
   ]
  },
  {
   "cell_type": "code",
   "execution_count": 78,
   "id": "614087e7",
   "metadata": {},
   "outputs": [
    {
     "data": {
      "text/plain": [
       "[('Steamed or Poached Sea Bass', 220),\n",
       " ('Quaker Oatmeal Squares', 378),\n",
       " ('Roasted Chicken Roll', 189),\n",
       " ('Pineapple Orange Juice with Sugar (Canned)', 54),\n",
       " ('Milk', 50),\n",
       " ('Beef Brisket (Flat Half, Trimmed to 0\" Fat, Choice Grade, Cooked, Braised)',\n",
       "  221),\n",
       " ('Cooked Escarole (Fat Added in Cooking)', 69),\n",
       " ('Buckwheat Groats (Fat Not Added in Cooking)', 92),\n",
       " ('Guava Paste', 282),\n",
       " ('Creamed Turnips (from Fresh)', 78),\n",
       " ('sacasacscas', 4),\n",
       " ('ghgvhvhv', 4),\n",
       " (' dcscds ghgvhvhv', 4),\n",
       " ('5 ghgvhvhv', 4)]"
      ]
     },
     "execution_count": 78,
     "metadata": {},
     "output_type": "execute_result"
    }
   ],
   "source": [
    "df_20_list_testing"
   ]
  },
  {
   "cell_type": "code",
   "execution_count": 67,
   "id": "f9580d53",
   "metadata": {},
   "outputs": [],
   "source": [
    "df_20_list_testing.remove(4)"
   ]
  },
  {
   "cell_type": "code",
   "execution_count": null,
   "id": "67218513",
   "metadata": {},
   "outputs": [],
   "source": []
  },
  {
   "cell_type": "code",
   "execution_count": null,
   "id": "53af2660",
   "metadata": {},
   "outputs": [],
   "source": []
  },
  {
   "cell_type": "code",
   "execution_count": null,
   "id": "a4137954",
   "metadata": {},
   "outputs": [],
   "source": [
    "df_10_list_testing = df_10_list\n",
    "df_10_list_testing"
   ]
  },
  {
   "cell_type": "code",
   "execution_count": null,
   "id": "61bca538",
   "metadata": {},
   "outputs": [],
   "source": [
    "df_10_list_testing.remove(('Mexican Coffee Sweetened', 28))"
   ]
  },
  {
   "cell_type": "code",
   "execution_count": null,
   "id": "36437a10",
   "metadata": {},
   "outputs": [],
   "source": [
    "df_10_list_testing"
   ]
  },
  {
   "cell_type": "code",
   "execution_count": null,
   "id": "6cd7f735",
   "metadata": {},
   "outputs": [],
   "source": [
    "len(df_10_list_testing)"
   ]
  },
  {
   "cell_type": "code",
   "execution_count": null,
   "id": "7ee8f75d",
   "metadata": {},
   "outputs": [],
   "source": []
  },
  {
   "cell_type": "code",
   "execution_count": null,
   "id": "bc621749",
   "metadata": {},
   "outputs": [],
   "source": [
    "testing_list =[]"
   ]
  },
  {
   "cell_type": "code",
   "execution_count": null,
   "id": "516f218f",
   "metadata": {},
   "outputs": [],
   "source": [
    "testing_list.append(64)"
   ]
  },
  {
   "cell_type": "code",
   "execution_count": null,
   "id": "f0a88060",
   "metadata": {},
   "outputs": [],
   "source": [
    "testing_list.pop(1)   #from any position in the list. "
   ]
  },
  {
   "cell_type": "code",
   "execution_count": null,
   "id": "ab09fb6f",
   "metadata": {},
   "outputs": [],
   "source": [
    "testing_list.remove(1)  #specific"
   ]
  },
  {
   "cell_type": "code",
   "execution_count": null,
   "id": "06fbd15d",
   "metadata": {},
   "outputs": [],
   "source": [
    "testing_list"
   ]
  },
  {
   "cell_type": "code",
   "execution_count": null,
   "id": "d75f58f8",
   "metadata": {},
   "outputs": [],
   "source": []
  }
 ],
 "metadata": {
  "kernelspec": {
   "display_name": "Python 3 (ipykernel)",
   "language": "python",
   "name": "python3"
  },
  "language_info": {
   "codemirror_mode": {
    "name": "ipython",
    "version": 3
   },
   "file_extension": ".py",
   "mimetype": "text/x-python",
   "name": "python",
   "nbconvert_exporter": "python",
   "pygments_lexer": "ipython3",
   "version": "3.9.7"
  }
 },
 "nbformat": 4,
 "nbformat_minor": 5
}
